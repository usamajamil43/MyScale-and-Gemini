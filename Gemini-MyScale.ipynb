{
 "cells": [
  {
   "cell_type": "code",
   "execution_count": null,
   "metadata": {},
   "outputs": [],
   "source": [
    "from langchain_community.document_loaders import PyPDFLoader\n",
    "\n",
    "loader = PyPDFLoader(\"Employee_Handbook.pdf\")\n",
    "pages = loader.load_and_split()"
   ]
  },
  {
   "cell_type": "code",
   "execution_count": 15,
   "metadata": {},
   "outputs": [],
   "source": [
    "pages=pages[4:]"
   ]
  },
  {
   "cell_type": "code",
   "execution_count": 16,
   "metadata": {},
   "outputs": [],
   "source": [
    "text = \"\\n\".join([doc.page_content for doc in pages])"
   ]
  },
  {
   "cell_type": "code",
   "execution_count": 17,
   "metadata": {},
   "outputs": [],
   "source": [
    "from langchain_text_splitters import RecursiveCharacterTextSplitter\n",
    "\n",
    "text_splitter = RecursiveCharacterTextSplitter(\n",
    "    # Set a really small chunk size, just to show.\n",
    "    chunk_size=500,\n",
    "    chunk_overlap=150,\n",
    "    length_function=len,\n",
    "    is_separator_regex=False,\n",
    ")\n",
    "docs=text_splitter.create_documents([text])"
   ]
  },
  {
   "cell_type": "code",
   "execution_count": 18,
   "metadata": {},
   "outputs": [],
   "source": [
    "for i, d in enumerate(docs):\n",
    "    d.metadata = {\"doc_id\": i}"
   ]
  },
  {
   "cell_type": "code",
   "execution_count": 19,
   "metadata": {},
   "outputs": [],
   "source": [
    "import os\n",
    "import google.generativeai as genai\n",
    "import pandas as pd\n",
    "os.environ[\"GEMINI_API_KEY\"]=\"API-HERE\"\n",
    "def get_embeddings(text):\n",
    "    model = 'models/embedding-001'\n",
    "    embedding = genai.embed_content(model=model,\n",
    "                                    content=text,\n",
    "                                    task_type=\"retrieval_document\")\n",
    "    return embedding['embedding']\n",
    "content_list = [doc.page_content for doc in docs]\n",
    "\n",
    "# Get embeddings for each content\n",
    "embeddings = [get_embeddings(content) for content in content_list]\n",
    "\n",
    "# Create DataFrame with page_content and embeddings\n",
    "dataframe = pd.DataFrame({\n",
    "    'page_content': content_list,\n",
    "    'embeddings': embeddings\n",
    "})"
   ]
  },
  {
   "cell_type": "code",
   "execution_count": 7,
   "metadata": {},
   "outputs": [],
   "source": [
    "\n",
    "import clickhouse_connect\n",
    "\n",
    "client = clickhouse_connect.get_client(\n",
    "    host='host-here',\n",
    "    port=443,\n",
    "    username='user-name-here',\n",
    "    password='password-here'\n",
    ")"
   ]
  },
  {
   "cell_type": "code",
   "execution_count": 9,
   "metadata": {},
   "outputs": [
    {
     "data": {
      "text/plain": [
       "['0', 'chi-msc-5332e745-msc-5332e745-0-0', 'OK', '0', '0']"
      ]
     },
     "execution_count": 9,
     "metadata": {},
     "output_type": "execute_result"
    }
   ],
   "source": [
    "client.command(\"\"\"\n",
    "    CREATE TABLE default.movies (\n",
    "        id Int64,\n",
    "        page_content String,\n",
    "        embeddings Array(Float32),\n",
    "        CONSTRAINT check_data_length CHECK length(embeddings) = 768\n",
    "    ) ENGINE = MergeTree()\n",
    "    ORDER BY id\n",
    "    \"\"\") "
   ]
  },
  {
   "cell_type": "code",
   "execution_count": 20,
   "metadata": {},
   "outputs": [
    {
     "name": "stdout",
     "output_type": "stream",
     "text": [
      "Batch 1/17 inserted.\n",
      "Batch 2/17 inserted.\n",
      "Batch 3/17 inserted.\n",
      "Batch 4/17 inserted.\n",
      "Batch 5/17 inserted.\n",
      "Batch 6/17 inserted.\n",
      "Batch 7/17 inserted.\n",
      "Batch 8/17 inserted.\n",
      "Batch 9/17 inserted.\n",
      "Batch 10/17 inserted.\n",
      "Batch 11/17 inserted.\n",
      "Batch 12/17 inserted.\n",
      "Batch 13/17 inserted.\n",
      "Batch 14/17 inserted.\n",
      "Batch 15/17 inserted.\n",
      "Batch 16/17 inserted.\n",
      "Batch 17/17 inserted.\n"
     ]
    },
    {
     "data": {
      "text/plain": [
       "['0', 'chi-msc-5332e745-msc-5332e745-0-0', 'OK', '0', '0']"
      ]
     },
     "execution_count": 20,
     "metadata": {},
     "output_type": "execute_result"
    }
   ],
   "source": [
    "\n",
    "batch_size = 10  # Adjust based on your needs\n",
    "\n",
    "num_batches = len(dataframe) // batch_size\n",
    "\n",
    "for i in range(num_batches):\n",
    "    start_idx = i * batch_size\n",
    "    end_idx = start_idx + batch_size\n",
    "    batch_data = dataframe[start_idx:end_idx]\n",
    "\n",
    "    client.insert(\"default.movies\", batch_data.to_records(index=False).tolist(), column_names=batch_data.columns.tolist())\n",
    "    print(f\"Batch {i+1}/{num_batches} inserted.\")\n",
    "    \n",
    "client.command(\"\"\"\n",
    "ALTER TABLE default.movies\n",
    "    ADD VECTOR INDEX vector_index embeddings\n",
    "    TYPE MSTG\n",
    "\"\"\")"
   ]
  },
  {
   "cell_type": "code",
   "execution_count": 21,
   "metadata": {},
   "outputs": [],
   "source": [
    "def get_relevant_docs(user_query):\n",
    "    query_embeddings=get_embeddings(user_query)\n",
    "    results = client.query(f\"\"\"\n",
    "        SELECT page_content,\n",
    "        distance(embeddings, {query_embeddings}) as dist FROM default.movies ORDER BY dist LIMIT 3\n",
    "    \"\"\")\n",
    "    relevant_docs = []\n",
    "    for row in results.named_results():\n",
    "        relevant_docs.append(row['page_content'])\n",
    "    return relevant_docs"
   ]
  },
  {
   "cell_type": "code",
   "execution_count": 22,
   "metadata": {},
   "outputs": [],
   "source": [
    "def make_rag_prompt(query, relevant_passage):\n",
    "    relevant_passage=' '.join(relevant_passage)\n",
    "    prompt = (\n",
    "        f\"You are an helpful and informative chatbot that answers questions using text from the reference passage included below. \"\n",
    "        f\"Respond in a complete sentence and make sure that your response is easy to understand for everyone.\"\n",
    "        f\"Maintain a friendly and conversational tone. If the passage is irrelevant, feel free to ignore it.\\n\\n\"\n",
    "        f\"QUESTION: '{query}'\\n\"\n",
    "        f\"PASSAGE: '{relevant_passage}'\\n\\n\"\n",
    "        f\"ANSWER:\"\n",
    "    )\n",
    "    return prompt"
   ]
  },
  {
   "cell_type": "code",
   "execution_count": 23,
   "metadata": {},
   "outputs": [],
   "source": [
    "import google.generativeai as genai\n",
    "def generate_response(user_prompt):\n",
    "    model = genai.GenerativeModel('gemini-pro')\n",
    "    answer = model.generate_content(user_prompt)\n",
    "    return answer.text"
   ]
  },
  {
   "cell_type": "code",
   "execution_count": 24,
   "metadata": {},
   "outputs": [],
   "source": [
    "def generate_answer(query):\n",
    "    #retrieve top 3 relevant text chunks\n",
    "    relevant_text = get_relevant_docs(query)\n",
    "    text=\" \".join(relevant_text)\n",
    "    prompt = make_rag_prompt(query, \n",
    "                             relevant_passage=relevant_text) # joining the relevant chunks to create a single passage\n",
    "    answer = generate_response(prompt)\n",
    "\n",
    "    return answer"
   ]
  },
  {
   "cell_type": "code",
   "execution_count": 31,
   "metadata": {},
   "outputs": [
    {
     "name": "stdout",
     "output_type": "stream",
     "text": [
      "The office working hours are as follows: 9:00 am to 5:45 pm or 9:30 am to 6:15 pm.\n"
     ]
    }
   ],
   "source": [
    "answer = generate_answer(query=\"what are the office working hours\")\n",
    "print(answer)"
   ]
  },
  {
   "cell_type": "code",
   "execution_count": 27,
   "metadata": {},
   "outputs": [
    {
     "name": "stdout",
     "output_type": "stream",
     "text": [
      "Lunch is between 1:00 PM and 1:30 PM.\n"
     ]
    }
   ],
   "source": [
    "answer = generate_answer(query=\"what is the lunch time\")\n",
    "print(answer)"
   ]
  },
  {
   "cell_type": "code",
   "execution_count": null,
   "metadata": {},
   "outputs": [],
   "source": []
  }
 ],
 "metadata": {
  "kernelspec": {
   "display_name": "Python 3",
   "language": "python",
   "name": "python3"
  },
  "language_info": {
   "codemirror_mode": {
    "name": "ipython",
    "version": 3
   },
   "file_extension": ".py",
   "mimetype": "text/x-python",
   "name": "python",
   "nbconvert_exporter": "python",
   "pygments_lexer": "ipython3",
   "version": "3.11.4"
  }
 },
 "nbformat": 4,
 "nbformat_minor": 2
}
